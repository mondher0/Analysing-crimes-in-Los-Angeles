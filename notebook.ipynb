{
 "cells": [
  {
   "cell_type": "code",
   "execution_count": 23,
   "metadata": {},
   "outputs": [],
   "source": [
    "import pandas as pd\n",
    "import numpy as np\n",
    "import matplotlib.pyplot as plt\n",
    "import seaborn as sns\n",
    "\n",
    "crimes = pd.read_csv(\"./data/crimes.csv\", parse_dates=[\"Date Rptd\", \"DATE OCC\"], dtype={\"TIME OCC\": str})\n"
   ]
  },
  {
   "cell_type": "code",
   "execution_count": 35,
   "metadata": {},
   "outputs": [
    {
     "name": "stdout",
     "output_type": "stream",
     "text": [
      "The hour with the highest frequency of crimes is 12.\n"
     ]
    }
   ],
   "source": [
    "# Which hour has the highest frequency of crimes?\n",
    "crimes[\"Hour\"] = crimes[\"TIME OCC\"].str[:2].astype(int)\n",
    "hourly_crimes = crimes.groupby(\"Hour\").size()\n",
    "peak_crime_hour = hourly_crimes.idxmax()\n",
    "print(f\"The hour with the highest frequency of crimes is {peak_crime_hour}.\")\n"
   ]
  },
  {
   "cell_type": "code",
   "execution_count": null,
   "metadata": {},
   "outputs": [
    {
     "name": "stdout",
     "output_type": "stream",
     "text": [
      "The area with the largest frequency of night crimes is Central.\n"
     ]
    }
   ],
   "source": [
    "# Which area has the largest frequency of night crimes?\n",
    "area_night_crimes = crimes[crimes[\"TIME OCC\"].astype(int).between(359, 2200)].groupby(\"AREA NAME\").size()\n",
    "peak_night_crime_location = area_night_crimes.idxmax()\n",
    "print(f\"The area with the largest frequency of night crimes is {peak_night_crime_location}.\")"
   ]
  },
  {
   "cell_type": "code",
   "execution_count": 45,
   "metadata": {},
   "outputs": [
    {
     "name": "stdout",
     "output_type": "stream",
     "text": [
      "AGE\n",
      "0-17      4528\n",
      "18-25    28291\n",
      "26-34    47470\n",
      "35-44    42157\n",
      "45-54    28353\n",
      "55-64    20169\n",
      "65+      14747\n",
      "dtype: int64\n"
     ]
    }
   ],
   "source": [
    "# Identify the number of crimes committed against victims of different age groups\n",
    "age_labels= [\"0-17\", \"18-25\", \"26-34\", \"35-44\", \"45-54\", \"55-64\", \"65+\"]\n",
    "age_bins = [0, 17, 25, 34, 44, 54, 64, np.inf]\n",
    "crimes[\"AGE\"] = pd.cut(crimes[\"Vict Age\"], bins=age_bins, labels=age_labels)\n",
    "victim_ages = crimes.groupby(\"AGE\", observed=True).size()\n",
    "print(victim_ages)"
   ]
  }
 ],
 "metadata": {
  "kernelspec": {
   "display_name": ".venv",
   "language": "python",
   "name": "python3"
  },
  "language_info": {
   "codemirror_mode": {
    "name": "ipython",
    "version": 3
   },
   "file_extension": ".py",
   "mimetype": "text/x-python",
   "name": "python",
   "nbconvert_exporter": "python",
   "pygments_lexer": "ipython3",
   "version": "3.12.2"
  }
 },
 "nbformat": 4,
 "nbformat_minor": 2
}
